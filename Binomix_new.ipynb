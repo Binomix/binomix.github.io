{
  "nbformat": 4,
  "nbformat_minor": 0,
  "metadata": {
    "colab": {
      "provenance": [],
      "collapsed_sections": [],
      "include_colab_link": true
    },
    "kernelspec": {
      "name": "python3",
      "display_name": "Python 3"
    },
    "language_info": {
      "name": "python"
    },
    "gpuClass": "standard"
  },
  "cells": [
    {
      "cell_type": "markdown",
      "metadata": {
        "id": "view-in-github",
        "colab_type": "text"
      },
      "source": [
        "<a href=\"https://colab.research.google.com/github/Binomix/binomix.github.io/blob/master/Binomix_new.ipynb\" target=\"_parent\"><img src=\"https://colab.research.google.com/assets/colab-badge.svg\" alt=\"Open In Colab\"/></a>"
      ]
    },
    {
      "cell_type": "code",
      "source": [
        "import numpy as np\n",
        "import pandas as pd\n",
        "import matplotlib.pyplot as plt"
      ],
      "metadata": {
        "id": "iVIZh_Dx1mIC"
      },
      "execution_count": null,
      "outputs": []
    },
    {
      "cell_type": "code",
      "source": [
        "df = pd.read_csv(r'/content/kn8551.csv',encoding ='ISO-8859-1',sep=';')"
      ],
      "metadata": {
        "id": "qNcMG2DK0A4z"
      },
      "execution_count": null,
      "outputs": []
    },
    {
      "cell_type": "code",
      "source": [
        "df"
      ],
      "metadata": {
        "id": "utYL7Wrt13Aq",
        "colab": {
          "base_uri": "https://localhost:8080/",
          "height": 424
        },
        "outputId": "a9adec11-79c1-4136-e35e-1669554f07e3"
      },
      "execution_count": null,
      "outputs": [
        {
          "output_type": "execute_result",
          "data": {
            "text/plain": [
              "    CHROM      POS           ID REF ALT QUAL FILTER INFO FORMAT\n",
              "0    chr1   752721    rs3131972   A   G    .      .    .     GT\n",
              "1    chr1   759036  rs114525117   G   A    .      .    .     GT\n",
              "2    chr1   801536   rs79373928   T   G    .      .    .     GT\n",
              "3    chr1   834830  rs116452738   G   A    .      .    .     GT\n",
              "4    chr1   835092   rs72631887   T   G    .      .    .     GT\n",
              "..    ...      ...          ...  ..  ..  ...    ...  ...    ...\n",
              "992  chr1  4566515    rs4654441   A   G    .      .    .     GT\n",
              "993  chr1  4568131  rs150200468   G   A    .      .    .     GT\n",
              "994  chr1  4569834     rs780568   A   G    .      .    .     GT\n",
              "995  chr1  4574090   rs79383560   A   G    .      .    .     GT\n",
              "996  chr1  4574117    rs1710422   C   T    .      .    .     GT\n",
              "\n",
              "[997 rows x 9 columns]"
            ],
            "text/html": [
              "\n",
              "  <div id=\"df-1f48dcfa-20cb-4135-a5f3-ff8e090fd955\">\n",
              "    <div class=\"colab-df-container\">\n",
              "      <div>\n",
              "<style scoped>\n",
              "    .dataframe tbody tr th:only-of-type {\n",
              "        vertical-align: middle;\n",
              "    }\n",
              "\n",
              "    .dataframe tbody tr th {\n",
              "        vertical-align: top;\n",
              "    }\n",
              "\n",
              "    .dataframe thead th {\n",
              "        text-align: right;\n",
              "    }\n",
              "</style>\n",
              "<table border=\"1\" class=\"dataframe\">\n",
              "  <thead>\n",
              "    <tr style=\"text-align: right;\">\n",
              "      <th></th>\n",
              "      <th>CHROM</th>\n",
              "      <th>POS</th>\n",
              "      <th>ID</th>\n",
              "      <th>REF</th>\n",
              "      <th>ALT</th>\n",
              "      <th>QUAL</th>\n",
              "      <th>FILTER</th>\n",
              "      <th>INFO</th>\n",
              "      <th>FORMAT</th>\n",
              "    </tr>\n",
              "  </thead>\n",
              "  <tbody>\n",
              "    <tr>\n",
              "      <th>0</th>\n",
              "      <td>chr1</td>\n",
              "      <td>752721</td>\n",
              "      <td>rs3131972</td>\n",
              "      <td>A</td>\n",
              "      <td>G</td>\n",
              "      <td>.</td>\n",
              "      <td>.</td>\n",
              "      <td>.</td>\n",
              "      <td>GT</td>\n",
              "    </tr>\n",
              "    <tr>\n",
              "      <th>1</th>\n",
              "      <td>chr1</td>\n",
              "      <td>759036</td>\n",
              "      <td>rs114525117</td>\n",
              "      <td>G</td>\n",
              "      <td>A</td>\n",
              "      <td>.</td>\n",
              "      <td>.</td>\n",
              "      <td>.</td>\n",
              "      <td>GT</td>\n",
              "    </tr>\n",
              "    <tr>\n",
              "      <th>2</th>\n",
              "      <td>chr1</td>\n",
              "      <td>801536</td>\n",
              "      <td>rs79373928</td>\n",
              "      <td>T</td>\n",
              "      <td>G</td>\n",
              "      <td>.</td>\n",
              "      <td>.</td>\n",
              "      <td>.</td>\n",
              "      <td>GT</td>\n",
              "    </tr>\n",
              "    <tr>\n",
              "      <th>3</th>\n",
              "      <td>chr1</td>\n",
              "      <td>834830</td>\n",
              "      <td>rs116452738</td>\n",
              "      <td>G</td>\n",
              "      <td>A</td>\n",
              "      <td>.</td>\n",
              "      <td>.</td>\n",
              "      <td>.</td>\n",
              "      <td>GT</td>\n",
              "    </tr>\n",
              "    <tr>\n",
              "      <th>4</th>\n",
              "      <td>chr1</td>\n",
              "      <td>835092</td>\n",
              "      <td>rs72631887</td>\n",
              "      <td>T</td>\n",
              "      <td>G</td>\n",
              "      <td>.</td>\n",
              "      <td>.</td>\n",
              "      <td>.</td>\n",
              "      <td>GT</td>\n",
              "    </tr>\n",
              "    <tr>\n",
              "      <th>...</th>\n",
              "      <td>...</td>\n",
              "      <td>...</td>\n",
              "      <td>...</td>\n",
              "      <td>...</td>\n",
              "      <td>...</td>\n",
              "      <td>...</td>\n",
              "      <td>...</td>\n",
              "      <td>...</td>\n",
              "      <td>...</td>\n",
              "    </tr>\n",
              "    <tr>\n",
              "      <th>992</th>\n",
              "      <td>chr1</td>\n",
              "      <td>4566515</td>\n",
              "      <td>rs4654441</td>\n",
              "      <td>A</td>\n",
              "      <td>G</td>\n",
              "      <td>.</td>\n",
              "      <td>.</td>\n",
              "      <td>.</td>\n",
              "      <td>GT</td>\n",
              "    </tr>\n",
              "    <tr>\n",
              "      <th>993</th>\n",
              "      <td>chr1</td>\n",
              "      <td>4568131</td>\n",
              "      <td>rs150200468</td>\n",
              "      <td>G</td>\n",
              "      <td>A</td>\n",
              "      <td>.</td>\n",
              "      <td>.</td>\n",
              "      <td>.</td>\n",
              "      <td>GT</td>\n",
              "    </tr>\n",
              "    <tr>\n",
              "      <th>994</th>\n",
              "      <td>chr1</td>\n",
              "      <td>4569834</td>\n",
              "      <td>rs780568</td>\n",
              "      <td>A</td>\n",
              "      <td>G</td>\n",
              "      <td>.</td>\n",
              "      <td>.</td>\n",
              "      <td>.</td>\n",
              "      <td>GT</td>\n",
              "    </tr>\n",
              "    <tr>\n",
              "      <th>995</th>\n",
              "      <td>chr1</td>\n",
              "      <td>4574090</td>\n",
              "      <td>rs79383560</td>\n",
              "      <td>A</td>\n",
              "      <td>G</td>\n",
              "      <td>.</td>\n",
              "      <td>.</td>\n",
              "      <td>.</td>\n",
              "      <td>GT</td>\n",
              "    </tr>\n",
              "    <tr>\n",
              "      <th>996</th>\n",
              "      <td>chr1</td>\n",
              "      <td>4574117</td>\n",
              "      <td>rs1710422</td>\n",
              "      <td>C</td>\n",
              "      <td>T</td>\n",
              "      <td>.</td>\n",
              "      <td>.</td>\n",
              "      <td>.</td>\n",
              "      <td>GT</td>\n",
              "    </tr>\n",
              "  </tbody>\n",
              "</table>\n",
              "<p>997 rows × 9 columns</p>\n",
              "</div>\n",
              "      <button class=\"colab-df-convert\" onclick=\"convertToInteractive('df-1f48dcfa-20cb-4135-a5f3-ff8e090fd955')\"\n",
              "              title=\"Convert this dataframe to an interactive table.\"\n",
              "              style=\"display:none;\">\n",
              "        \n",
              "  <svg xmlns=\"http://www.w3.org/2000/svg\" height=\"24px\"viewBox=\"0 0 24 24\"\n",
              "       width=\"24px\">\n",
              "    <path d=\"M0 0h24v24H0V0z\" fill=\"none\"/>\n",
              "    <path d=\"M18.56 5.44l.94 2.06.94-2.06 2.06-.94-2.06-.94-.94-2.06-.94 2.06-2.06.94zm-11 1L8.5 8.5l.94-2.06 2.06-.94-2.06-.94L8.5 2.5l-.94 2.06-2.06.94zm10 10l.94 2.06.94-2.06 2.06-.94-2.06-.94-.94-2.06-.94 2.06-2.06.94z\"/><path d=\"M17.41 7.96l-1.37-1.37c-.4-.4-.92-.59-1.43-.59-.52 0-1.04.2-1.43.59L10.3 9.45l-7.72 7.72c-.78.78-.78 2.05 0 2.83L4 21.41c.39.39.9.59 1.41.59.51 0 1.02-.2 1.41-.59l7.78-7.78 2.81-2.81c.8-.78.8-2.07 0-2.86zM5.41 20L4 18.59l7.72-7.72 1.47 1.35L5.41 20z\"/>\n",
              "  </svg>\n",
              "      </button>\n",
              "      \n",
              "  <style>\n",
              "    .colab-df-container {\n",
              "      display:flex;\n",
              "      flex-wrap:wrap;\n",
              "      gap: 12px;\n",
              "    }\n",
              "\n",
              "    .colab-df-convert {\n",
              "      background-color: #E8F0FE;\n",
              "      border: none;\n",
              "      border-radius: 50%;\n",
              "      cursor: pointer;\n",
              "      display: none;\n",
              "      fill: #1967D2;\n",
              "      height: 32px;\n",
              "      padding: 0 0 0 0;\n",
              "      width: 32px;\n",
              "    }\n",
              "\n",
              "    .colab-df-convert:hover {\n",
              "      background-color: #E2EBFA;\n",
              "      box-shadow: 0px 1px 2px rgba(60, 64, 67, 0.3), 0px 1px 3px 1px rgba(60, 64, 67, 0.15);\n",
              "      fill: #174EA6;\n",
              "    }\n",
              "\n",
              "    [theme=dark] .colab-df-convert {\n",
              "      background-color: #3B4455;\n",
              "      fill: #D2E3FC;\n",
              "    }\n",
              "\n",
              "    [theme=dark] .colab-df-convert:hover {\n",
              "      background-color: #434B5C;\n",
              "      box-shadow: 0px 1px 3px 1px rgba(0, 0, 0, 0.15);\n",
              "      filter: drop-shadow(0px 1px 2px rgba(0, 0, 0, 0.3));\n",
              "      fill: #FFFFFF;\n",
              "    }\n",
              "  </style>\n",
              "\n",
              "      <script>\n",
              "        const buttonEl =\n",
              "          document.querySelector('#df-1f48dcfa-20cb-4135-a5f3-ff8e090fd955 button.colab-df-convert');\n",
              "        buttonEl.style.display =\n",
              "          google.colab.kernel.accessAllowed ? 'block' : 'none';\n",
              "\n",
              "        async function convertToInteractive(key) {\n",
              "          const element = document.querySelector('#df-1f48dcfa-20cb-4135-a5f3-ff8e090fd955');\n",
              "          const dataTable =\n",
              "            await google.colab.kernel.invokeFunction('convertToInteractive',\n",
              "                                                     [key], {});\n",
              "          if (!dataTable) return;\n",
              "\n",
              "          const docLinkHtml = 'Like what you see? Visit the ' +\n",
              "            '<a target=\"_blank\" href=https://colab.research.google.com/notebooks/data_table.ipynb>data table notebook</a>'\n",
              "            + ' to learn more about interactive tables.';\n",
              "          element.innerHTML = '';\n",
              "          dataTable['output_type'] = 'display_data';\n",
              "          await google.colab.output.renderOutput(dataTable, element);\n",
              "          const docLink = document.createElement('div');\n",
              "          docLink.innerHTML = docLinkHtml;\n",
              "          element.appendChild(docLink);\n",
              "        }\n",
              "      </script>\n",
              "    </div>\n",
              "  </div>\n",
              "  "
            ]
          },
          "metadata": {},
          "execution_count": 5
        }
      ]
    },
    {
      "cell_type": "code",
      "source": [
        "import seaborn as sns\n",
        "import numpy as np\n",
        "import pandas as pd\n",
        "import matplotlib.pyplot as plt\n",
        "\n",
        "from sklearn.model_selection import train_test_split\n",
        "from sklearn.preprocessing import StandardScaler\n",
        "from sklearn.metrics import accuracy_score"
      ],
      "metadata": {
        "id": "ZOtcOFUNlgXJ"
      },
      "execution_count": null,
      "outputs": []
    },
    {
      "cell_type": "code",
      "source": [
        "df.describe().T"
      ],
      "metadata": {
        "colab": {
          "base_uri": "https://localhost:8080/",
          "height": 81
        },
        "id": "jxFR3yKTlmsJ",
        "outputId": "bc59cdfd-5574-4c6f-86ac-97eeadf131c0"
      },
      "execution_count": null,
      "outputs": [
        {
          "output_type": "execute_result",
          "data": {
            "text/plain": [
              "     count          mean           std       min        25%        50%  \\\n",
              "POS  997.0  2.776188e+06  1.100232e+06  752721.0  1933267.0  2902128.0   \n",
              "\n",
              "           75%        max  \n",
              "POS  3651031.0  4574117.0  "
            ],
            "text/html": [
              "\n",
              "  <div id=\"df-173f9968-36c5-4dda-9ffb-d9457fa19edd\">\n",
              "    <div class=\"colab-df-container\">\n",
              "      <div>\n",
              "<style scoped>\n",
              "    .dataframe tbody tr th:only-of-type {\n",
              "        vertical-align: middle;\n",
              "    }\n",
              "\n",
              "    .dataframe tbody tr th {\n",
              "        vertical-align: top;\n",
              "    }\n",
              "\n",
              "    .dataframe thead th {\n",
              "        text-align: right;\n",
              "    }\n",
              "</style>\n",
              "<table border=\"1\" class=\"dataframe\">\n",
              "  <thead>\n",
              "    <tr style=\"text-align: right;\">\n",
              "      <th></th>\n",
              "      <th>count</th>\n",
              "      <th>mean</th>\n",
              "      <th>std</th>\n",
              "      <th>min</th>\n",
              "      <th>25%</th>\n",
              "      <th>50%</th>\n",
              "      <th>75%</th>\n",
              "      <th>max</th>\n",
              "    </tr>\n",
              "  </thead>\n",
              "  <tbody>\n",
              "    <tr>\n",
              "      <th>POS</th>\n",
              "      <td>997.0</td>\n",
              "      <td>2.776188e+06</td>\n",
              "      <td>1.100232e+06</td>\n",
              "      <td>752721.0</td>\n",
              "      <td>1933267.0</td>\n",
              "      <td>2902128.0</td>\n",
              "      <td>3651031.0</td>\n",
              "      <td>4574117.0</td>\n",
              "    </tr>\n",
              "  </tbody>\n",
              "</table>\n",
              "</div>\n",
              "      <button class=\"colab-df-convert\" onclick=\"convertToInteractive('df-173f9968-36c5-4dda-9ffb-d9457fa19edd')\"\n",
              "              title=\"Convert this dataframe to an interactive table.\"\n",
              "              style=\"display:none;\">\n",
              "        \n",
              "  <svg xmlns=\"http://www.w3.org/2000/svg\" height=\"24px\"viewBox=\"0 0 24 24\"\n",
              "       width=\"24px\">\n",
              "    <path d=\"M0 0h24v24H0V0z\" fill=\"none\"/>\n",
              "    <path d=\"M18.56 5.44l.94 2.06.94-2.06 2.06-.94-2.06-.94-.94-2.06-.94 2.06-2.06.94zm-11 1L8.5 8.5l.94-2.06 2.06-.94-2.06-.94L8.5 2.5l-.94 2.06-2.06.94zm10 10l.94 2.06.94-2.06 2.06-.94-2.06-.94-.94-2.06-.94 2.06-2.06.94z\"/><path d=\"M17.41 7.96l-1.37-1.37c-.4-.4-.92-.59-1.43-.59-.52 0-1.04.2-1.43.59L10.3 9.45l-7.72 7.72c-.78.78-.78 2.05 0 2.83L4 21.41c.39.39.9.59 1.41.59.51 0 1.02-.2 1.41-.59l7.78-7.78 2.81-2.81c.8-.78.8-2.07 0-2.86zM5.41 20L4 18.59l7.72-7.72 1.47 1.35L5.41 20z\"/>\n",
              "  </svg>\n",
              "      </button>\n",
              "      \n",
              "  <style>\n",
              "    .colab-df-container {\n",
              "      display:flex;\n",
              "      flex-wrap:wrap;\n",
              "      gap: 12px;\n",
              "    }\n",
              "\n",
              "    .colab-df-convert {\n",
              "      background-color: #E8F0FE;\n",
              "      border: none;\n",
              "      border-radius: 50%;\n",
              "      cursor: pointer;\n",
              "      display: none;\n",
              "      fill: #1967D2;\n",
              "      height: 32px;\n",
              "      padding: 0 0 0 0;\n",
              "      width: 32px;\n",
              "    }\n",
              "\n",
              "    .colab-df-convert:hover {\n",
              "      background-color: #E2EBFA;\n",
              "      box-shadow: 0px 1px 2px rgba(60, 64, 67, 0.3), 0px 1px 3px 1px rgba(60, 64, 67, 0.15);\n",
              "      fill: #174EA6;\n",
              "    }\n",
              "\n",
              "    [theme=dark] .colab-df-convert {\n",
              "      background-color: #3B4455;\n",
              "      fill: #D2E3FC;\n",
              "    }\n",
              "\n",
              "    [theme=dark] .colab-df-convert:hover {\n",
              "      background-color: #434B5C;\n",
              "      box-shadow: 0px 1px 3px 1px rgba(0, 0, 0, 0.15);\n",
              "      filter: drop-shadow(0px 1px 2px rgba(0, 0, 0, 0.3));\n",
              "      fill: #FFFFFF;\n",
              "    }\n",
              "  </style>\n",
              "\n",
              "      <script>\n",
              "        const buttonEl =\n",
              "          document.querySelector('#df-173f9968-36c5-4dda-9ffb-d9457fa19edd button.colab-df-convert');\n",
              "        buttonEl.style.display =\n",
              "          google.colab.kernel.accessAllowed ? 'block' : 'none';\n",
              "\n",
              "        async function convertToInteractive(key) {\n",
              "          const element = document.querySelector('#df-173f9968-36c5-4dda-9ffb-d9457fa19edd');\n",
              "          const dataTable =\n",
              "            await google.colab.kernel.invokeFunction('convertToInteractive',\n",
              "                                                     [key], {});\n",
              "          if (!dataTable) return;\n",
              "\n",
              "          const docLinkHtml = 'Like what you see? Visit the ' +\n",
              "            '<a target=\"_blank\" href=https://colab.research.google.com/notebooks/data_table.ipynb>data table notebook</a>'\n",
              "            + ' to learn more about interactive tables.';\n",
              "          element.innerHTML = '';\n",
              "          dataTable['output_type'] = 'display_data';\n",
              "          await google.colab.output.renderOutput(dataTable, element);\n",
              "          const docLink = document.createElement('div');\n",
              "          docLink.innerHTML = docLinkHtml;\n",
              "          element.appendChild(docLink);\n",
              "        }\n",
              "      </script>\n",
              "    </div>\n",
              "  </div>\n",
              "  "
            ]
          },
          "metadata": {},
          "execution_count": 7
        }
      ]
    },
    {
      "cell_type": "code",
      "source": [
        "corr = df.corr()"
      ],
      "metadata": {
        "id": "1DnJCgGglrCb"
      },
      "execution_count": null,
      "outputs": []
    },
    {
      "cell_type": "code",
      "source": [
        "# Get the absolute value of the correlation\n",
        "cor_target = abs(corr[\"POS\"])\n",
        "\n",
        "# Select highly correlated features (thresold = 0.2)\n",
        "relevant_features = cor_target[cor_target>0.2]\n",
        "\n",
        "# Collect the names of the features\n",
        "names = [index for index, value in relevant_features.iteritems()]\n",
        "\n",
        "# Drop the target variable from the results\n",
        "names.remove('POS')\n",
        "\n",
        "# Display the results\n",
        "print(names)"
      ],
      "metadata": {
        "colab": {
          "base_uri": "https://localhost:8080/"
        },
        "id": "2WWmcwX0ltDz",
        "outputId": "129d5a01-9c50-40b9-b3eb-2c5b903dfdaf"
      },
      "execution_count": null,
      "outputs": [
        {
          "output_type": "stream",
          "name": "stdout",
          "text": [
            "[]\n"
          ]
        }
      ]
    },
    {
      "cell_type": "code",
      "source": [
        "X = df['REF'].values\n",
        "y = df['POS']"
      ],
      "metadata": {
        "id": "3PQTIS7wmLxR"
      },
      "execution_count": null,
      "outputs": []
    },
    {
      "cell_type": "code",
      "source": [
        "input_data=pd.get_dummies(df['REF'])"
      ],
      "metadata": {
        "id": "oFufCrGqm4xB"
      },
      "execution_count": null,
      "outputs": []
    },
    {
      "cell_type": "code",
      "source": [
        "X_train, X_test, y_train, y_test = train_test_split(X, y, test_size = 0.2, random_state=42) #split the  data into traing and validating"
      ],
      "metadata": {
        "id": "IcqskLK4mRnn"
      },
      "execution_count": null,
      "outputs": []
    },
    {
      "cell_type": "code",
      "source": [
        "import seaborn"
      ],
      "metadata": {
        "id": "xAMK88NE4GiT"
      },
      "execution_count": null,
      "outputs": []
    },
    {
      "cell_type": "code",
      "source": [
        "seaborn.pairplot(df, hue='ALT' )"
      ],
      "metadata": {
        "id": "fJm8QXd_4Mpg",
        "colab": {
          "base_uri": "https://localhost:8080/",
          "height": 214
        },
        "outputId": "f73b40c5-01ab-404d-d582-41626ad45511"
      },
      "execution_count": null,
      "outputs": [
        {
          "output_type": "execute_result",
          "data": {
            "text/plain": [
              "<seaborn.axisgrid.PairGrid at 0x7f0607389a10>"
            ]
          },
          "metadata": {},
          "execution_count": 5
        },
        {
          "output_type": "display_data",
          "data": {
            "text/plain": [
              "<Figure size 205x180 with 2 Axes>"
            ],
            "image/png": "[encoded data removed]"
          },
          "metadata": {
            "needs_background": "light"
          }
        }
      ]
    },
    {
      "cell_type": "code",
      "source": [
        "seaborn.pairplot(df, hue='REF' )"
      ],
      "metadata": {
        "id": "GsiljngN4U9L",
        "colab": {
          "base_uri": "https://localhost:8080/",
          "height": 214
        },
        "outputId": "e6c0d40a-7b38-4b40-c805-250bfc385e3f"
      },
      "execution_count": null,
      "outputs": [
        {
          "output_type": "execute_result",
          "data": {
            "text/plain": [
              "<seaborn.axisgrid.PairGrid at 0x7f0607bf4850>"
            ]
          },
          "metadata": {},
          "execution_count": 6
        },
        {
          "output_type": "display_data",
          "data": {
            "text/plain": [
              "<Figure size 206.875x180 with 2 Axes>"
            ],
            "image/png": "[encoded data removed]"
          },
          "metadata": {
            "needs_background": "light"
          }
        }
      ]
    },
    {
      "cell_type": "code",
      "source": [
        "import pandas as pd\n",
        "from sklearn.metrics import classification_report\n",
        "from sklearn.metrics import confusion_matrix\n",
        "from sklearn.metrics import accuracy_score\n",
        "from sklearn.neighbors import KNeighborsClassifier\n",
        "from sklearn.svm import SVC\n",
        "from sklearn import svm\n",
        "from sklearn.model_selection import train_test_split"
      ],
      "metadata": {
        "id": "WWz_kBA872qa"
      },
      "execution_count": null,
      "outputs": []
    },
    {
      "cell_type": "code",
      "source": [
        "X = df.iloc[:,:-1].values"
      ],
      "metadata": {
        "id": "AZaB4_Dh8Cvr"
      },
      "execution_count": null,
      "outputs": []
    },
    {
      "cell_type": "code",
      "source": [
        "y = df['POS']"
      ],
      "metadata": {
        "id": "89L7a_e58F9z"
      },
      "execution_count": null,
      "outputs": []
    },
    {
      "cell_type": "code",
      "source": [
        "X_train, X_test, y_train, y_test = train_test_split(X, y, test_size=0.20, random_state=27)"
      ],
      "metadata": {
        "id": "zwkoc5bV8JNH"
      },
      "execution_count": null,
      "outputs": []
    },
    {
      "cell_type": "code",
      "source": [
        "print(X_train)\n",
        "print(y_train)"
      ],
      "metadata": {
        "id": "OSTmmpah8La2",
        "colab": {
          "base_uri": "https://localhost:8080/"
        },
        "outputId": "87bac83b-bc88-43a4-b0f1-5e37f06a06ff"
      },
      "execution_count": null,
      "outputs": [
        {
          "output_type": "stream",
          "name": "stdout",
          "text": [
            "[['chr1' 1404796 'rs182336567' ... '.' '.' '.']\n",
            " ['chr1' 4370385 'rs351615' ... '.' '.' '.']\n",
            " ['chr1' 3679783 'rs76416341' ... '.' '.' '.']\n",
            " ...\n",
            " ['chr1' 4104757 'rs12036953' ... '.' '.' '.']\n",
            " ['chr1' 3485108 'rs75995598' ... '.' '.' '.']\n",
            " ['chr1' 888659 'rs3748597' ... '.' '.' '.']]\n",
            "172    1404796\n",
            "936    4370385\n",
            "753    3679783\n",
            "403    2449924\n",
            "286    2071700\n",
            "        ...   \n",
            "824    4037665\n",
            "543    3058238\n",
            "840    4104757\n",
            "696    3485108\n",
            "19      888659\n",
            "Name: POS, Length: 797, dtype: int64\n"
          ]
        }
      ]
    },
    {
      "cell_type": "code",
      "source": [
        "\n",
        "import numpy as np\n",
        "import pandas as pd\n",
        "import matplotlib.pyplot as plt\n",
        "import seaborn as sns\n",
        "from scipy import stats\n",
        "from tqdm.notebook import tqdm\n",
        "import itertools\n",
        "\n",
        "\n",
        "from sklearn import preprocessing\n",
        "from sklearn.experimental import enable_iterative_imputer\n",
        "from sklearn.impute import IterativeImputer\n",
        "\n",
        "\n",
        "from sklearn.model_selection import train_test_split, GridSearchCV, cross_val_score, StratifiedShuffleSplit, cross_val_predict\n",
        "from sklearn import svm\n",
        "from sklearn.metrics import confusion_matrix, plot_confusion_matrix, classification_report, roc_curve, auc\n",
        "from sklearn.decomposition import PCA\n",
        "from sklearn.pipeline import Pipeline\n",
        "from scipy.spatial.distance import pdist, squareform\n",
        "\n",
        "plt.style.use('default')\n",
        "\n",
        "import matplotlib as mpl\n",
        "mpl.rcParams['figure.dpi']= 300\n",
        "mpl.rcParams['font.family'] = 'sans-serif'\n",
        "mpl.rcParams['font.sans-serif'] = ['Helvetica Neue']\n",
        "\n",
        "import warnings\n",
        "warnings.filterwarnings('ignore') "
      ],
      "metadata": {
        "id": "aW-5_fVFGgOM"
      },
      "execution_count": null,
      "outputs": []
    },
    {
      "cell_type": "code",
      "source": [
        "def reset_plot_style():\n",
        "    plt.style.use('default')\n",
        "    mpl.rcParams['figure.dpi']= 300\n",
        "    mpl.rcParams['font.family'] = 'sans-serif'\n",
        "    mpl.rcParams['font.sans-serif'] = ['Helvetica Neue']"
      ],
      "metadata": {
        "id": "rliAO1cqGknv"
      },
      "execution_count": null,
      "outputs": []
    },
    {
      "cell_type": "code",
      "source": [
        "df.loc[df['CHROM'].str.contains(\"foo\") == True]=1\n",
        "df.loc[df['REF'].str.contains(\"foo\") == True]=0"
      ],
      "metadata": {
        "id": "DXgkAGFgEsYT"
      },
      "execution_count": null,
      "outputs": []
    },
    {
      "cell_type": "code",
      "source": [
        "input_data = df[['CHROM', 'POS', 'ID', 'REF']]\n",
        "output_data = (df['ALT'])"
      ],
      "metadata": {
        "id": "g66Uk6IdLO5n"
      },
      "execution_count": null,
      "outputs": []
    },
    {
      "cell_type": "code",
      "source": [
        "len(input_data)"
      ],
      "metadata": {
        "id": "okg4d0QiLdYj",
        "colab": {
          "base_uri": "https://localhost:8080/"
        },
        "outputId": "8b7a90c0-8c8e-4671-b106-592812e3d5f7"
      },
      "execution_count": null,
      "outputs": [
        {
          "output_type": "execute_result",
          "data": {
            "text/plain": [
              "997"
            ]
          },
          "metadata": {},
          "execution_count": 16
        }
      ]
    },
    {
      "cell_type": "code",
      "source": [
        "(input_data.isnull()).values.ravel().sum()"
      ],
      "metadata": {
        "id": "8ouyF6wKLfJ7",
        "colab": {
          "base_uri": "https://localhost:8080/"
        },
        "outputId": "ef16adef-77e4-4d94-d0ef-b7f288f47114"
      },
      "execution_count": null,
      "outputs": [
        {
          "output_type": "execute_result",
          "data": {
            "text/plain": [
              "0"
            ]
          },
          "metadata": {},
          "execution_count": 17
        }
      ]
    },
    {
      "cell_type": "code",
      "source": [
        "(~input_data.isnull()).values.ravel().sum()"
      ],
      "metadata": {
        "id": "7yrZ4XALLh_t",
        "colab": {
          "base_uri": "https://localhost:8080/"
        },
        "outputId": "ea25d9b8-7745-4b29-dd3a-b4233baf04bc"
      },
      "execution_count": null,
      "outputs": [
        {
          "output_type": "execute_result",
          "data": {
            "text/plain": [
              "3988"
            ]
          },
          "metadata": {},
          "execution_count": 18
        }
      ]
    },
    {
      "cell_type": "code",
      "source": [
        "input_data.isnull().values.sum(axis = 0)"
      ],
      "metadata": {
        "id": "whV1oNE_Lj1g",
        "colab": {
          "base_uri": "https://localhost:8080/"
        },
        "outputId": "4980f8a2-a4b0-42b2-a4ff-ebee1f772fb3"
      },
      "execution_count": null,
      "outputs": [
        {
          "output_type": "execute_result",
          "data": {
            "text/plain": [
              "array([0, 0, 0, 0])"
            ]
          },
          "metadata": {},
          "execution_count": 19
        }
      ]
    },
    {
      "cell_type": "code",
      "source": [
        "input_data = np.array(input_data)\n",
        "output_data = np.array(output_data)"
      ],
      "metadata": {
        "id": "4_Y7u27JLluN"
      },
      "execution_count": null,
      "outputs": []
    },
    {
      "cell_type": "code",
      "source": [
        "input_data=pd.get_dummies(df['CHROM'])"
      ],
      "metadata": {
        "id": "6EMTjiZlLwqV"
      },
      "execution_count": null,
      "outputs": []
    },
    {
      "cell_type": "code",
      "source": [
        "input_data=pd.get_dummies(df['ID'])"
      ],
      "metadata": {
        "id": "-YMC-3rHxPvK"
      },
      "execution_count": null,
      "outputs": []
    },
    {
      "cell_type": "code",
      "source": [
        "iter_imp = IterativeImputer(add_indicator = True, max_iter = 100)\n",
        "iter_imp.fit(input_data)\n",
        "imp_input_data = iter_imp.transform(input_data)"
      ],
      "metadata": {
        "id": "VRDlKvpkLnoZ"
      },
      "execution_count": null,
      "outputs": []
    },
    {
      "cell_type": "code",
      "source": [
        "scaler = preprocessing.StandardScaler().fit(imp_input_data)\n",
        "imp_scaled_input_data = scaler.transform(imp_input_data)"
      ],
      "metadata": {
        "id": "59eJo8kMLpQO"
      },
      "execution_count": null,
      "outputs": []
    },
    {
      "cell_type": "code",
      "source": [
        "pca = PCA(n_components = 2)\n",
        "pca.fit(imp_scaled_input_data)\n",
        "pca_input = pca.transform(imp_scaled_input_data)"
      ],
      "metadata": {
        "id": "i_BCMY9KMBeN"
      },
      "execution_count": null,
      "outputs": []
    },
    {
      "cell_type": "code",
      "source": [
        "from sklearn.decomposition import PCA\n",
        "\n",
        "pca = PCA(n_components=2)\n",
        "pca.fit(imp_scaled_input_data)\n",
        "pca_input = pca.transform(imp_scaled_input_data)\n",
        "\n",
        "print(\"explained variance per feature\", end = \"\")\n",
        "print(pca.explained_variance_ratio_)\n",
        "print(f\"2 compomemt - explained variance {np.sum(pca.explained_variance_ratio_):.3f}\")"
      ],
      "metadata": {
        "id": "nby4_nwuMDBh",
        "colab": {
          "base_uri": "https://localhost:8080/"
        },
        "outputId": "5b23d510-428c-44d1-f514-31d0ff2bd329"
      },
      "execution_count": null,
      "outputs": [
        {
          "output_type": "stream",
          "name": "stdout",
          "text": [
            "explained variance per feature[0.00100402 0.00100402]\n",
            "2 compomemt - explained variance 0.002\n"
          ]
        }
      ]
    },
    {
      "cell_type": "code",
      "source": [
        "import matplotlib.pyplot as plt\n",
        "\n",
        "plt.scatter( X[:, 0], X[:, 1] )"
      ],
      "metadata": {
        "id": "BjA9x0tMMF9g",
        "colab": {
          "base_uri": "https://localhost:8080/",
          "height": 201
        },
        "outputId": "d4615470-4841-4b13-a2f4-f692a286d1ff"
      },
      "execution_count": null,
      "outputs": [
        {
          "output_type": "error",
          "ename": "NameError",
          "evalue": "ignored",
          "traceback": [
            "\u001b[0;31m---------------------------------------------------------------------------\u001b[0m",
            "\u001b[0;31mNameError\u001b[0m                                 Traceback (most recent call last)",
            "\u001b[0;32m<ipython-input-2-ed22014ed641>\u001b[0m in \u001b[0;36m<module>\u001b[0;34m\u001b[0m\n\u001b[1;32m      1\u001b[0m \u001b[0;32mimport\u001b[0m \u001b[0mmatplotlib\u001b[0m\u001b[0;34m.\u001b[0m\u001b[0mpyplot\u001b[0m \u001b[0;32mas\u001b[0m \u001b[0mplt\u001b[0m\u001b[0;34m\u001b[0m\u001b[0;34m\u001b[0m\u001b[0m\n\u001b[1;32m      2\u001b[0m \u001b[0;34m\u001b[0m\u001b[0m\n\u001b[0;32m----> 3\u001b[0;31m \u001b[0mplt\u001b[0m\u001b[0;34m.\u001b[0m\u001b[0mscatter\u001b[0m\u001b[0;34m(\u001b[0m \u001b[0mX\u001b[0m\u001b[0;34m[\u001b[0m\u001b[0;34m:\u001b[0m\u001b[0;34m,\u001b[0m \u001b[0;36m0\u001b[0m\u001b[0;34m]\u001b[0m\u001b[0;34m,\u001b[0m \u001b[0mX\u001b[0m\u001b[0;34m[\u001b[0m\u001b[0;34m:\u001b[0m\u001b[0;34m,\u001b[0m \u001b[0;36m1\u001b[0m\u001b[0;34m]\u001b[0m \u001b[0;34m)\u001b[0m\u001b[0;34m\u001b[0m\u001b[0;34m\u001b[0m\u001b[0m\n\u001b[0m",
            "\u001b[0;31mNameError\u001b[0m: name 'X' is not defined"
          ]
        }
      ]
    },
    {
      "cell_type": "code",
      "source": [
        "exp = np.repeat(np.arange(-5, 0, 1, dtype = float), 4)\n",
        "mul = np.tile(np.arange(1,10, 2), 4)\n",
        "gamma = list(mul*(10**exp))\n",
        "C = list(mul[::-1]*(10**(-exp-1)))\n",
        "\n",
        "X_train, X_test, y_train, y_test = train_test_split(imp_scaled_input_data, \n",
        "                                                    output_data,\n",
        "                                                    test_size = 0.4, \n",
        "                                                    shuffle = True, \n",
        "                                                    )\n",
        "\n",
        "tuned_parameters = {'C': C, \n",
        "                    'gamma': gamma, \n",
        "                    'kernel': ['rbf'], \n",
        "                    'class_weight':['balanced']}\n",
        "\n",
        "optim_clf = GridSearchCV(\n",
        "    svm.SVC(), tuned_parameters, cv = 5, scoring = 'precision', verbose = 0\n",
        ")\n",
        "\n",
        "optim_clf.fit(X_train, y_train)\n",
        "print(optim_clf.best_params_)\n",
        "\n",
        "y_true, y_pred = y_test, optim_clf.predict(X_test)\n",
        "print(classification_report(y_true, y_pred))"
      ],
      "metadata": {
        "id": "C7ZEnXPv0SV2",
        "colab": {
          "base_uri": "https://localhost:8080/"
        },
        "outputId": "177cd6ef-f5d8-439c-da0a-518ea819b3ed"
      },
      "execution_count": null,
      "outputs": [
        {
          "output_type": "stream",
          "name": "stdout",
          "text": [
            "{'C': 90000.0, 'class_weight': 'balanced', 'gamma': 1e-05, 'kernel': 'rbf'}\n",
            "              precision    recall  f1-score   support\n",
            "\n",
            "           A       0.00      0.00      0.00       149\n",
            "           C       0.00      0.00      0.00        73\n",
            "           G       0.00      0.00      0.00        52\n",
            "           T       0.31      1.00      0.48       125\n",
            "\n",
            "    accuracy                           0.31       399\n",
            "   macro avg       0.08      0.25      0.12       399\n",
            "weighted avg       0.10      0.31      0.15       399\n",
            "\n"
          ]
        }
      ]
    },
    {
      "cell_type": "code",
      "source": [
        "plot_confusion_matrix(optim_clf, X_test, y_test, display_labels = ['ATL', 'REF'])"
      ],
      "metadata": {
        "colab": {
          "base_uri": "https://localhost:8080/",
          "height": 166
        },
        "id": "U2y2FmgWJiit",
        "outputId": "d843808d-89c6-4bcf-c145-79c65ae72a52"
      },
      "execution_count": null,
      "outputs": [
        {
          "output_type": "error",
          "ename": "NameError",
          "evalue": "ignored",
          "traceback": [
            "\u001b[0;31m---------------------------------------------------------------------------\u001b[0m",
            "\u001b[0;31mNameError\u001b[0m                                 Traceback (most recent call last)",
            "\u001b[0;32m<ipython-input-1-6774e6414cb6>\u001b[0m in \u001b[0;36m<module>\u001b[0;34m\u001b[0m\n\u001b[0;32m----> 1\u001b[0;31m \u001b[0mplot_confusion_matrix\u001b[0m\u001b[0;34m(\u001b[0m\u001b[0moptim_clf\u001b[0m\u001b[0;34m,\u001b[0m \u001b[0mX_test\u001b[0m\u001b[0;34m,\u001b[0m \u001b[0my_test\u001b[0m\u001b[0;34m,\u001b[0m \u001b[0mdisplay_labels\u001b[0m \u001b[0;34m=\u001b[0m \u001b[0;34m[\u001b[0m\u001b[0;34m'ATL'\u001b[0m\u001b[0;34m,\u001b[0m \u001b[0;34m'REF'\u001b[0m\u001b[0;34m]\u001b[0m\u001b[0;34m)\u001b[0m\u001b[0;34m\u001b[0m\u001b[0;34m\u001b[0m\u001b[0m\n\u001b[0m",
            "\u001b[0;31mNameError\u001b[0m: name 'plot_confusion_matrix' is not defined"
          ]
        }
      ]
    },
    {
      "cell_type": "code",
      "source": [
        "def find_best_hyperparams(inputs, outputs, n_splits, param_dict, test_size = 0.3):\n",
        "    \n",
        "    strat_shuffle_split = StratifiedShuffleSplit(n_splits = n_splits, test_size = test_size)\n",
        "    \n",
        "    pipe = Pipeline([\n",
        "        ('imputer', IterativeImputer(add_indicator = True, max_iter = 100)),\n",
        "        ('scaler', preprocessing.StandardScaler()),\n",
        "        ('hyperparam_gridsearch', GridSearchCV(\n",
        "            \n",
        "            estimator = svm.SVC(), \n",
        "            param_grid = param_dict, \n",
        "            cv = strat_shuffle_split, \n",
        "            scoring = 'balanced_accuracy', \n",
        "            verbose = 0, \n",
        "            n_jobs = -1\n",
        "        ))\n",
        "    ])\n",
        "    \n",
        "    pipe.fit(inputs, outputs)\n",
        "    model = pipe['hyperparam_gridsearch']\n",
        "    hyperparam_idx = model.cv_results_['params'].index(model.best_params_)\n",
        "    best_hyperparam_scores = np.array([model.cv_results_[f'split{i}_test_score'][hyperparam_idx] for i in range(n_splits)])\n",
        "    \n",
        "    return model.best_params_, best_hyperparam_scores\n",
        "\n",
        "def shuffle_split_validation(inputs, outputs, n_splits, **svc_params):\n",
        "    \n",
        "    strat_shuffle_split = StratifiedShuffleSplit(n_splits = n_splits, test_size = 0.3)\n",
        "    \n",
        "    pipe = Pipeline([\n",
        "        ('imputer', IterativeImputer(add_indicator = True, max_iter = 100)),\n",
        "        ('scaler', preprocessing.StandardScaler())    \n",
        "    ])\n",
        "    \n",
        "    pipe.fit(inputs, outputs)\n",
        "    data = pipe.transform(inputs)\n",
        "    \n",
        "    holder_predictions = []\n",
        "    holder_probabilities = []\n",
        "    holder_scores = []\n",
        "    holder_true_labels = []\n",
        "    \n",
        "    model = svm.SVC(probability = True, **svc_params)\n",
        "    \n",
        "    for train_idx, test_idx in tqdm(strat_shuffle_split.split(data, outputs), total = n_splits):\n",
        "        X_train, X_test, y_train, y_test = (data[train_idx], \n",
        "                                            data[test_idx], \n",
        "                                            outputs[train_idx], \n",
        "                                            outputs[test_idx])\n",
        "        model.fit(X_train, y_train)\n",
        "        \n",
        "        predictions = model.predict(X_test)\n",
        "        probabilities = model.predict_proba(X_test)\n",
        "        scores = model.score(X_test, y_test)\n",
        "        \n",
        "        holder_predictions.append(predictions)\n",
        "        holder_probabilities.append(probabilities)\n",
        "        holder_scores.append(scores)\n",
        "        holder_true_labels.append(y_test)\n",
        "        \n",
        "    return holder_predictions, holder_probabilities, holder_scores, holder_true_labels\n",
        "\n",
        "def two_threshold_acc(t0, t1, probs, preds, trues, min_cov, rich_output = False):\n",
        "    if t1<t0:\n",
        "        return 0.0\n",
        "    bool_array = np.logical_or(np.logical_and(probs < t0, preds==0), np.logical_and(probs > t1, preds==1))\n",
        "    new_preds = preds[bool_array]\n",
        "    if (len(new_preds)/len(trues)) <= min_cov:\n",
        "        return -1.0\n",
        "    new_trues = trues[bool_array]\n",
        "    n_corr = ((new_preds * new_trues) + (1 - new_preds) * (1 - new_trues)).sum()\n",
        "    if not rich_output:\n",
        "        return n_corr/len(new_trues)\n",
        "    else:\n",
        "        new_probs = probs[bool_array]\n",
        "        return n_corr/len(new_trues), new_probs, new_trues, new_preds\n",
        "\n",
        "\n",
        "def get_coverage_threshold(probs, preds, trues, min_cov):\n",
        "    probs_sort = probs.copy()\n",
        "    probs_sort.sort()\n",
        "    probs_sort_roll = np.roll(probs_sort, -1)\n",
        "    probs_sort_roll[-1] = 1\n",
        "    possible_thresholds = (probs_sort_roll + probs_sort)/2\n",
        "    indices = np.vstack(np.triu_indices(len(possible_thresholds))).T\n",
        "    \n",
        "    threshold_pairs = possible_thresholds[indices]\n",
        "    accs = np.apply_along_axis(lambda x: two_threshold_acc(x[0], x[1], probs, preds, trues, min_cov), 1, threshold_pairs)\n",
        "    max_acc_idx = np.argmax(accs)\n",
        "    max_acc_thresholds = threshold_pairs[max_acc_idx]\n",
        "    \n",
        "    _, new_probs, new_trues, new_preds = two_threshold_acc(max_acc_thresholds[0], \n",
        "                                                max_acc_thresholds[1], \n",
        "                                                probs, preds, trues, min_cov, \n",
        "                                                rich_output = True)\n",
        "    \n",
        "    return accs.max(), max_acc_thresholds, new_probs, new_trues, new_preds\n",
        "\n",
        "def score_with_rejection(holder_preds, holder_probs, holder_trues, min_coverage):\n",
        "    holder_scores_with_rejection = []\n",
        "    holder_new_probs = []\n",
        "    holder_new_trues = []\n",
        "    holder_new_preds = []\n",
        "    \n",
        "    for i in tqdm(range(len(holder_preds))):\n",
        "        max_acc, max_acc_thresholds, new_probs, new_trues, new_preds = get_coverage_threshold(holder_probs[i][:, 1], \n",
        "                                                                                   holder_preds[i], \n",
        "                                                                                   holder_trues[i], \n",
        "                                                                                   min_coverage)\n",
        "        holder_scores_with_rejection.append(max_acc)\n",
        "        holder_new_probs.append(new_probs)\n",
        "        holder_new_trues.append(new_trues)\n",
        "        holder_new_preds.append(new_preds)\n",
        "        \n",
        "    return holder_scores_with_rejection, holder_new_probs, holder_new_trues, holder_new_preds\n",
        "\n",
        "def mean_CI(data, a=0.05, N = 1000):\n",
        "\n",
        "    n = len(data)\n",
        "    xbar = np.mean(data)\n",
        "    bootstrap = np.random.choice(a = data, replace = True, size = (N, n))\n",
        "    bootstrap_means = bootstrap.mean(axis = 1)\n",
        "    bootstrap_means.sort()\n",
        "    L = bootstrap_means[int(N * a/2)]\n",
        "    U = bootstrap_means[int(N * (1 - a/2))]\n",
        "    return L, xbar, U\n",
        "\n",
        "    n = len(data)\n",
        "    sigbar = np.std(data)\n",
        "    bootstrap = np.random.choice(a = data, replace = True, size = (N, n))\n",
        "    bootstrap_means = bootstrap.std(axis = 1)\n",
        "    bootstrap_means.sort()\n",
        "    L = bootstrap_means[int(N * a/2)]\n",
        "    U = bootstrap_means[int(N * (1 - a/2))]\n",
        "    return L, sigbar, U"
      ],
      "metadata": {
        "id": "_DtpENt_YEH7"
      },
      "execution_count": null,
      "outputs": []
    },
    {
      "cell_type": "code",
      "source": [
        "toy = np.arange(1,20, 1)"
      ],
      "metadata": {
        "id": "3py0qIplfHW8"
      },
      "execution_count": null,
      "outputs": []
    },
    {
      "cell_type": "code",
      "source": [
        "np.random.choice(a = toy, replace = True, size = (1000, 30))"
      ],
      "metadata": {
        "colab": {
          "base_uri": "https://localhost:8080/"
        },
        "id": "vHOEOAF5KcXe",
        "outputId": "db4b2c49-586d-430e-ce08-8fefb9d17b4c"
      },
      "execution_count": null,
      "outputs": [
        {
          "output_type": "execute_result",
          "data": {
            "text/plain": [
              "array([[ 2,  2,  4, ..., 15, 18,  5],\n",
              "       [15, 19, 13, ...,  5, 11,  5],\n",
              "       [19, 11, 17, ...,  4, 17,  7],\n",
              "       ...,\n",
              "       [11, 12,  7, ...,  4, 19,  7],\n",
              "       [16, 19, 13, ..., 14, 17, 10],\n",
              "       [12, 13, 19, ..., 13,  1,  5]])"
            ]
          },
          "metadata": {},
          "execution_count": 50
        }
      ]
    },
    {
      "cell_type": "code",
      "source": [
        "\n",
        "tuned_parameters = [{'C': [1,10,25,30,50,75,100,200], \n",
        "                        'gamma': [0.001, 0.01, 0.1, 1, 2, 3, 4, 5, 10, 50, 'scale'], \n",
        "                        'kernel': ['rbf'], 'class_weight':['balanced']}, \n",
        "                        {'kernel': ['poly'], 'degree': [1,2,3,4,5,6], 'class_weight':['balanced']}]\n",
        "\n",
        "feature_combinations=[[0,1,2,3], [1,2,3], [0,2,3], [0,1,3], [0,1,2]]\n",
        "combination_names = ['all_features', 'no_pphen2', 'no_coils', 'no_structscore', 'no_mrbayes']\n",
        "feat_comb_params_dict = {}\n",
        "\n",
        "for i in tqdm(range(len(feature_combinations))):\n",
        "    best_params, scores = find_best_hyperparams(inputs = input_data[:, feature_combinations[i]], \n",
        "                                              outputs = output_data, \n",
        "                                              n_splits = 300, \n",
        "                                              param_dict = tuned_parameters, \n",
        "                                              test_size = 0.3)\n",
        "    \n",
        "    feat_comb_params_dict[combination_names[i]] = (best_params, scores)"
      ],
      "metadata": {
        "colab": {
          "base_uri": "https://localhost:8080/",
          "height": 235
        },
        "id": "zuHRC8hSKd7A",
        "outputId": "4daad28d-6001-40e4-cfe9-e295e1a1fe2f"
      },
      "execution_count": null,
      "outputs": [
        {
          "output_type": "error",
          "ename": "AttributeError",
          "evalue": "ignored",
          "traceback": [
            "\u001b[0;31m---------------------------------------------------------------------------\u001b[0m",
            "\u001b[0;31mAttributeError\u001b[0m                            Traceback (most recent call last)",
            "\u001b[0;32m<ipython-input-52-d06d0fac7469>\u001b[0m in \u001b[0;36m<module>\u001b[0;34m\u001b[0m\n\u001b[1;32m      1\u001b[0m \u001b[0;32mfrom\u001b[0m \u001b[0msklearn\u001b[0m\u001b[0;34m.\u001b[0m\u001b[0mimpute\u001b[0m \u001b[0;32mimport\u001b[0m \u001b[0mSimpleImputer\u001b[0m\u001b[0;34m\u001b[0m\u001b[0;34m\u001b[0m\u001b[0m\n\u001b[1;32m      2\u001b[0m \u001b[0mimputer\u001b[0m \u001b[0;34m=\u001b[0m \u001b[0mSimpleImputer\u001b[0m\u001b[0;34m(\u001b[0m\u001b[0mmissing_values\u001b[0m \u001b[0;34m=\u001b[0m \u001b[0mnp\u001b[0m\u001b[0;34m.\u001b[0m\u001b[0mnan\u001b[0m\u001b[0;34m,\u001b[0m \u001b[0mstrategy\u001b[0m \u001b[0;34m=\u001b[0m \u001b[0;34m'mean'\u001b[0m\u001b[0;34m,\u001b[0m\u001b[0mverbose\u001b[0m\u001b[0;34m=\u001b[0m\u001b[0;36m0\u001b[0m\u001b[0;34m)\u001b[0m\u001b[0;34m\u001b[0m\u001b[0;34m\u001b[0m\u001b[0m\n\u001b[0;32m----> 3\u001b[0;31m \u001b[0mimputer\u001b[0m \u001b[0;34m=\u001b[0m \u001b[0mimputer\u001b[0m\u001b[0;34m.\u001b[0m\u001b[0mfit\u001b[0m\u001b[0;34m(\u001b[0m\u001b[0mX\u001b[0m\u001b[0;34m.\u001b[0m\u001b[0miloc\u001b[0m\u001b[0;34m[\u001b[0m\u001b[0;34m:\u001b[0m\u001b[0;34m,\u001b[0m \u001b[0;36m1\u001b[0m\u001b[0;34m:\u001b[0m\u001b[0;36m3\u001b[0m\u001b[0;34m]\u001b[0m\u001b[0;34m)\u001b[0m\u001b[0;34m\u001b[0m\u001b[0;34m\u001b[0m\u001b[0m\n\u001b[0m\u001b[1;32m      4\u001b[0m \u001b[0mX\u001b[0m\u001b[0;34m.\u001b[0m\u001b[0miloc\u001b[0m\u001b[0;34m[\u001b[0m\u001b[0;34m:\u001b[0m\u001b[0;34m,\u001b[0m \u001b[0;36m1\u001b[0m\u001b[0;34m:\u001b[0m\u001b[0;36m3\u001b[0m\u001b[0;34m]\u001b[0m \u001b[0;34m=\u001b[0m \u001b[0mimputer\u001b[0m\u001b[0;34m.\u001b[0m\u001b[0mtransform\u001b[0m\u001b[0;34m(\u001b[0m\u001b[0mX\u001b[0m\u001b[0;34m.\u001b[0m\u001b[0miloc\u001b[0m\u001b[0;34m[\u001b[0m\u001b[0;34m:\u001b[0m\u001b[0;34m,\u001b[0m \u001b[0;36m1\u001b[0m\u001b[0;34m:\u001b[0m\u001b[0;36m3\u001b[0m\u001b[0;34m]\u001b[0m\u001b[0;34m)\u001b[0m\u001b[0;34m\u001b[0m\u001b[0;34m\u001b[0m\u001b[0m\n\u001b[1;32m      5\u001b[0m tuned_parameters = [{'C': [1,10,25,30,50,75,100,200], \n",
            "\u001b[0;31mAttributeError\u001b[0m: 'numpy.ndarray' object has no attribute 'iloc'"
          ]
        }
      ]
    },
    {
      "cell_type": "code",
      "source": [],
      "metadata": {
        "id": "gfI744C9KgOH"
      },
      "execution_count": null,
      "outputs": []
    }
  ]
}